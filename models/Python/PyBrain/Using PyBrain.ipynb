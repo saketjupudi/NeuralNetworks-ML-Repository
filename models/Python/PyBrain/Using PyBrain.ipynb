{
 "cells": [
  {
   "cell_type": "code",
   "execution_count": 1,
   "metadata": {
    "collapsed": true
   },
   "outputs": [],
   "source": [
    "from pybrain.datasets            import ClassificationDataSet\n",
    "from pybrain.utilities           import percentError\n",
    "from pybrain.tools.shortcuts     import buildNetwork\n",
    "from pybrain.supervised.trainers import BackpropTrainer\n",
    "from pybrain.structure.modules   import SoftmaxLayer"
   ]
  },
  {
   "cell_type": "code",
   "execution_count": 2,
   "metadata": {
    "collapsed": true
   },
   "outputs": [],
   "source": [
    "from pylab import ion, ioff, figure, draw, contourf, clf, show, hold, plot\n",
    "from scipy import diag, arange, meshgrid, where\n",
    "from numpy.random import multivariate_normal"
   ]
  },
  {
   "cell_type": "code",
   "execution_count": 3,
   "metadata": {
    "collapsed": true
   },
   "outputs": [],
   "source": [
    "means = [(-1,0),(2,4),(3,1)]\n",
    "cov = [diag([1,1]), diag([0.5,1.2]), diag([1.5,0.7])]\n",
    "alldata = ClassificationDataSet(2, 1, nb_classes=3)\n",
    "for n in xrange(400):\n",
    "    for klass in range(3):\n",
    "        input = multivariate_normal(means[klass],cov[klass])\n",
    "        alldata.addSample(input, [klass])"
   ]
  },
  {
   "cell_type": "code",
   "execution_count": 4,
   "metadata": {
    "collapsed": true
   },
   "outputs": [],
   "source": [
    "tstdata, trndata = alldata.splitWithProportion( 0.25 )"
   ]
  },
  {
   "cell_type": "code",
   "execution_count": 5,
   "metadata": {
    "collapsed": true
   },
   "outputs": [],
   "source": [
    "trndata._convertToOneOfMany( )\n",
    "tstdata._convertToOneOfMany( )"
   ]
  },
  {
   "cell_type": "code",
   "execution_count": 6,
   "metadata": {
    "collapsed": false
   },
   "outputs": [
    {
     "name": "stdout",
     "output_type": "stream",
     "text": [
      "Number of training patterns:  900\n",
      "Input and output dimensions:  2 3\n",
      "First sample (input, target, class):\n",
      "[-2.31176778 -0.0887695 ] [1 0 0] [ 0.]\n"
     ]
    }
   ],
   "source": [
    "print \"Number of training patterns: \", len(trndata)\n",
    "print \"Input and output dimensions: \", trndata.indim, trndata.outdim\n",
    "print \"First sample (input, target, class):\"\n",
    "print trndata['input'][0], trndata['target'][0], trndata['class'][0]"
   ]
  },
  {
   "cell_type": "code",
   "execution_count": 7,
   "metadata": {
    "collapsed": true
   },
   "outputs": [],
   "source": [
    "fnn = buildNetwork( trndata.indim, 5, trndata.outdim, outclass=SoftmaxLayer )"
   ]
  },
  {
   "cell_type": "code",
   "execution_count": 8,
   "metadata": {
    "collapsed": true
   },
   "outputs": [],
   "source": [
    "trainer = BackpropTrainer( fnn, dataset=trndata, momentum=0.1, verbose=True, weightdecay=0.01)"
   ]
  },
  {
   "cell_type": "code",
   "execution_count": 9,
   "metadata": {
    "collapsed": true
   },
   "outputs": [],
   "source": [
    "ticks = arange(-3.,6.,0.2)\n",
    "X, Y = meshgrid(ticks, ticks)\n",
    "# need column vectors in dataset, not arrays\n",
    "griddata = ClassificationDataSet(2,1, nb_classes=3)\n",
    "for i in xrange(X.size):\n",
    "    griddata.addSample([X.ravel()[i],Y.ravel()[i]], [0])\n",
    "griddata._convertToOneOfMany()  # this is still needed to make the fnn feel comfy"
   ]
  },
  {
   "cell_type": "code",
   "execution_count": 13,
   "metadata": {
    "collapsed": false
   },
   "outputs": [
    {
     "name": "stdout",
     "output_type": "stream",
     "text": [
      "Total error: 0.0168018648258\n",
      "epoch:   21   train error:  5.22%   test error:  6.00%\n",
      "Total error: 0.0166616323039\n",
      "epoch:   22   train error:  5.11%   test error:  6.00%\n",
      "Total error: 0.0166290459511\n",
      "epoch:   23   train error:  5.22%   test error:  6.33%\n",
      "Total error: 0.0165837283305\n",
      "epoch:   24   train error:  5.11%   test error:  6.33%\n",
      "Total error: 0.0167955459478\n",
      "epoch:   25   train error:  5.22%   test error:  6.33%\n",
      "Total error: 0.0167097479878\n",
      "epoch:   26   train error:  5.22%   test error:  6.33%\n",
      "Total error: 0.0166041556972\n",
      "epoch:   27   train error:  5.33%   test error:  7.00%\n",
      "Total error: 0.0166392783225\n",
      "epoch:   28   train error:  5.33%   test error:  6.00%\n",
      "Total error: 0.0165683857563\n",
      "epoch:   29   train error:  5.33%   test error:  6.67%\n",
      "Total error: 0.0166059259951\n",
      "epoch:   30   train error:  5.00%   test error:  6.00%\n",
      "Total error: 0.0166471386979\n",
      "epoch:   31   train error:  5.44%   test error:  7.00%\n",
      "Total error: 0.0166075904549\n",
      "epoch:   32   train error:  5.22%   test error:  6.33%\n",
      "Total error: 0.0167237869506\n",
      "epoch:   33   train error:  5.33%   test error:  6.00%\n",
      "Total error: 0.0166212548316\n",
      "epoch:   34   train error:  5.33%   test error:  6.33%\n",
      "Total error: 0.0164699630239\n",
      "epoch:   35   train error:  5.67%   test error:  7.33%\n",
      "Total error: 0.0165561577184\n",
      "epoch:   36   train error:  5.00%   test error:  6.00%\n",
      "Total error: 0.016619671644\n",
      "epoch:   37   train error:  5.22%   test error:  6.67%\n",
      "Total error: 0.0165986422196\n",
      "epoch:   38   train error:  5.78%   test error:  7.33%\n",
      "Total error: 0.0165379288884\n",
      "epoch:   39   train error:  5.56%   test error:  6.67%\n",
      "Total error: 0.016589485309\n",
      "epoch:   40   train error:  4.89%   test error:  5.67%\n",
      "Total error: 0.0166178411483\n",
      "epoch:   41   train error:  5.11%   test error:  6.00%\n",
      "Total error: 0.0165269033309\n",
      "epoch:   42   train error:  5.11%   test error:  6.33%\n",
      "Total error: 0.0165455780467\n",
      "epoch:   43   train error:  5.11%   test error:  6.33%\n",
      "Total error: 0.0166249822906\n",
      "epoch:   44   train error:  5.11%   test error:  5.67%\n",
      "Total error: 0.0164481117441\n",
      "epoch:   45   train error:  5.11%   test error:  6.33%\n",
      "Total error: 0.0165382759768\n",
      "epoch:   46   train error:  5.33%   test error:  7.00%\n",
      "Total error: 0.0166051336347\n",
      "epoch:   47   train error:  5.11%   test error:  6.00%\n",
      "Total error: 0.0164911720663\n",
      "epoch:   48   train error:  5.78%   test error:  8.00%\n",
      "Total error: 0.0165920476095\n",
      "epoch:   49   train error:  5.56%   test error:  7.00%\n",
      "Total error: 0.0165615676698\n",
      "epoch:   50   train error:  5.33%   test error:  6.33%\n",
      "Total error: 0.0165961887786\n",
      "epoch:   51   train error:  5.11%   test error:  6.00%\n",
      "Total error: 0.0164704973629\n",
      "epoch:   52   train error:  5.11%   test error:  6.33%\n",
      "Total error: 0.0164430044776\n",
      "epoch:   53   train error:  5.11%   test error:  6.33%\n",
      "Total error: 0.0166439955039\n",
      "epoch:   54   train error:  5.11%   test error:  6.00%\n",
      "Total error: 0.0165185652381\n",
      "epoch:   55   train error:  5.44%   test error:  7.00%\n",
      "Total error: 0.0165125927457\n",
      "epoch:   56   train error:  5.56%   test error:  7.00%\n",
      "Total error: 0.0166625870951\n",
      "epoch:   57   train error:  5.33%   test error:  6.33%\n",
      "Total error: 0.016555119659\n",
      "epoch:   58   train error:  5.00%   test error:  5.67%\n",
      "Total error: 0.0165881339899\n",
      "epoch:   59   train error:  5.44%   test error:  7.67%\n",
      "Total error: 0.0165087436871\n",
      "epoch:   60   train error:  5.78%   test error:  7.33%\n",
      "Total error: 0.0164353860812\n",
      "epoch:   61   train error:  4.89%   test error:  5.67%\n",
      "Total error: 0.0165215350416\n",
      "epoch:   62   train error:  5.11%   test error:  6.00%\n",
      "Total error: 0.0164696335472\n",
      "epoch:   63   train error:  5.78%   test error:  8.00%\n",
      "Total error: 0.0166045214446\n",
      "epoch:   64   train error:  5.67%   test error:  7.33%\n",
      "Total error: 0.0164000566752\n",
      "epoch:   65   train error:  5.44%   test error:  7.00%\n",
      "Total error: 0.0164536060149\n",
      "epoch:   66   train error:  5.11%   test error:  7.00%\n",
      "Total error: 0.0165972750539\n",
      "epoch:   67   train error:  5.11%   test error:  6.33%\n",
      "Total error: 0.0166047522931\n",
      "epoch:   68   train error:  5.22%   test error:  6.00%\n",
      "Total error: 0.0166374191441\n",
      "epoch:   69   train error:  5.44%   test error:  7.33%\n",
      "Total error: 0.0165298731675\n",
      "epoch:   70   train error:  5.33%   test error:  7.33%\n",
      "Total error: 0.0165110659907\n",
      "epoch:   71   train error:  5.33%   test error:  7.33%\n",
      "Total error: 0.0165005221254\n",
      "epoch:   72   train error:  5.11%   test error:  6.33%\n",
      "Total error: 0.01642418775\n",
      "epoch:   73   train error:  5.33%   test error:  6.00%\n",
      "Total error: 0.0164049565484\n",
      "epoch:   74   train error:  5.11%   test error:  7.00%\n",
      "Total error: 0.016606055529\n",
      "epoch:   75   train error:  5.11%   test error:  6.00%\n",
      "Total error: 0.0166935172065\n",
      "epoch:   76   train error:  5.00%   test error:  6.00%\n",
      "Total error: 0.0165425039855\n",
      "epoch:   77   train error:  5.22%   test error:  6.33%\n",
      "Total error: 0.0164897540084\n",
      "epoch:   78   train error:  5.33%   test error:  7.33%\n",
      "Total error: 0.0164990509228\n",
      "epoch:   79   train error:  5.00%   test error:  6.00%\n",
      "Total error: 0.0165633653938\n",
      "epoch:   80   train error:  5.22%   test error:  6.33%\n",
      "Total error: 0.0166722630417\n",
      "epoch:   81   train error:  5.11%   test error:  6.00%\n",
      "Total error: 0.0165659419287\n",
      "epoch:   82   train error:  5.33%   test error:  6.33%\n",
      "Total error: 0.0166300209227\n",
      "epoch:   83   train error:  5.44%   test error:  6.33%\n",
      "Total error: 0.0165333223453\n",
      "epoch:   84   train error:  5.11%   test error:  6.33%\n",
      "Total error: 0.0165783666518\n",
      "epoch:   85   train error:  5.33%   test error:  7.00%\n",
      "Total error: 0.0165852843306\n",
      "epoch:   86   train error:  5.56%   test error:  6.67%\n",
      "Total error: 0.016511632403\n",
      "epoch:   87   train error:  5.11%   test error:  6.33%\n",
      "Total error: 0.0165588958013\n",
      "epoch:   88   train error:  5.44%   test error:  7.00%\n",
      "Total error: 0.0166638604433\n",
      "epoch:   89   train error:  5.22%   test error:  6.00%\n",
      "Total error: 0.016588890039\n",
      "epoch:   90   train error:  5.22%   test error:  6.33%\n",
      "Total error: 0.0165329255856\n",
      "epoch:   91   train error:  5.00%   test error:  6.00%\n",
      "Total error: 0.0166060986409\n",
      "epoch:   92   train error:  5.33%   test error:  7.33%\n",
      "Total error: 0.0165268202605\n",
      "epoch:   93   train error:  5.33%   test error:  6.33%\n",
      "Total error: 0.0166042258321\n",
      "epoch:   94   train error:  4.89%   test error:  5.67%\n",
      "Total error: 0.0165303737292\n",
      "epoch:   95   train error:  5.11%   test error:  6.33%\n",
      "Total error: 0.0165432641185\n",
      "epoch:   96   train error:  5.11%   test error:  6.00%\n",
      "Total error: 0.0166660954805\n",
      "epoch:   97   train error:  5.22%   test error:  6.00%\n",
      "Total error: 0.0166331411764\n",
      "epoch:   98   train error:  5.11%   test error:  6.00%\n",
      "Total error: 0.0164355926\n",
      "epoch:   99   train error:  5.22%   test error:  6.33%\n",
      "Total error: 0.0164701975211\n",
      "epoch:  100   train error:  5.00%   test error:  6.00%\n",
      "Total error: 0.0165626077968\n",
      "epoch:  101   train error:  4.89%   test error:  6.00%\n",
      "Total error: 0.0165856120751\n",
      "epoch:  102   train error:  4.89%   test error:  6.00%\n",
      "Total error: 0.0165531639068\n",
      "epoch:  103   train error:  5.00%   test error:  6.33%\n",
      "Total error: 0.016595224745\n",
      "epoch:  104   train error:  5.00%   test error:  5.67%\n",
      "Total error: 0.0166165040471\n",
      "epoch:  105   train error:  5.00%   test error:  6.00%\n",
      "Total error: 0.0167032777097\n",
      "epoch:  106   train error:  5.11%   test error:  6.00%\n",
      "Total error: 0.0165421307623\n",
      "epoch:  107   train error:  5.11%   test error:  6.00%\n",
      "Total error: 0.0164745864636\n",
      "epoch:  108   train error:  5.11%   test error:  6.33%\n",
      "Total error: 0.0165477652252\n",
      "epoch:  109   train error:  5.22%   test error:  7.00%\n",
      "Total error: 0.0166005332997\n",
      "epoch:  110   train error:  5.33%   test error:  7.33%\n",
      "Total error: 0.0165097163999\n",
      "epoch:  111   train error:  5.11%   test error:  6.00%\n",
      "Total error: 0.0164582961425\n",
      "epoch:  112   train error:  5.00%   test error:  6.00%\n",
      "Total error: 0.016600609323\n",
      "epoch:  113   train error:  5.11%   test error:  6.33%\n",
      "Total error: 0.0165284674242\n",
      "epoch:  114   train error:  4.89%   test error:  5.67%\n",
      "Total error: 0.0165791283139\n",
      "epoch:  115   train error:  5.22%   test error:  6.00%\n",
      "Total error: 0.0165595067346\n",
      "epoch:  116   train error:  5.00%   test error:  6.67%\n",
      "Total error: 0.0166145009624\n",
      "epoch:  117   train error:  5.11%   test error:  7.00%\n",
      "Total error: 0.0165816793056\n",
      "epoch:  118   train error:  5.00%   test error:  6.00%\n",
      "Total error: 0.0165340202875\n",
      "epoch:  119   train error:  5.11%   test error:  6.33%\n",
      "Total error: 0.0166533983841\n",
      "epoch:  120   train error:  5.00%   test error:  5.67%\n"
     ]
    }
   ],
   "source": [
    "for i in range(100):\n",
    "    trainer.trainEpochs( 1 )\n",
    "    trnresult = percentError( trainer.testOnClassData(),\n",
    "                              trndata['class'] )\n",
    "    tstresult = percentError( trainer.testOnClassData(\n",
    "           dataset=tstdata ), tstdata['class'] )\n",
    "\n",
    "    print \"epoch: %4d\" % trainer.totalepochs, \\\n",
    "          \"  train error: %5.2f%%\" % trnresult, \\\n",
    "          \"  test error: %5.2f%%\" % tstresult\n",
    "    out = fnn.activateOnDataset(griddata)\n",
    "    out = out.argmax(axis=1)  # the highest output activation gives the class\n",
    "    out = out.reshape(X.shape)\n",
    "    figure(1)\n",
    "    ioff()  # interactive graphics off\n",
    "    clf()   # clear the plot\n",
    "    hold(True) # overplot on\n",
    "    for c in [0,1,2]:\n",
    "        here, _ = where(tstdata['class']==c)\n",
    "        plot(tstdata['input'][here,0],tstdata['input'][here,1],'o')\n",
    "    if out.max()!=out.min():  # safety check against flat field\n",
    "        contourf(X, Y, out)   # plot the contour\n",
    "    ion()   # interactive graphics on\n",
    "    draw()  # update the plot"
   ]
  },
  {
   "cell_type": "code",
   "execution_count": 14,
   "metadata": {
    "collapsed": true
   },
   "outputs": [],
   "source": [
    "ioff()\n",
    "show()"
   ]
  },
  {
   "cell_type": "code",
   "execution_count": null,
   "metadata": {
    "collapsed": true
   },
   "outputs": [],
   "source": []
  }
 ],
 "metadata": {
  "kernelspec": {
   "display_name": "Python 2",
   "language": "python",
   "name": "python2"
  },
  "language_info": {
   "codemirror_mode": {
    "name": "ipython",
    "version": 2
   },
   "file_extension": ".py",
   "mimetype": "text/x-python",
   "name": "python",
   "nbconvert_exporter": "python",
   "pygments_lexer": "ipython2",
   "version": "2.7.11"
  }
 },
 "nbformat": 4,
 "nbformat_minor": 0
}
